{
 "cells": [
  {
   "cell_type": "code",
   "execution_count": 1,
   "id": "dbe3db94",
   "metadata": {},
   "outputs": [],
   "source": [
    "# import libraries \n",
    "\n",
    "from bs4 import BeautifulSoup\n",
    "import requests\n",
    "import time\n",
    "import datetime\n",
    "import csv\n",
    "import datetime\n",
    "import pandas as pd\n",
    "from django.core.mail import send_mail\n",
    "\n",
    "#  smtplib - SMTP client session object that can be used to send mail to any internet machine\n",
    "import smtplib"
   ]
  },
  {
   "cell_type": "code",
   "execution_count": 2,
   "id": "140d5e94",
   "metadata": {},
   "outputs": [
    {
     "name": "stdout",
     "output_type": "stream",
     "text": [
      "\n",
      "            OnePlus Nord 2 5G (Blue Haze, 8GB RAM, 128GB Storage)\n",
      "           \n",
      "\n",
      "                       ₹27,899.00\n",
      "                      \n"
     ]
    }
   ],
   "source": [
    "# Connecting to the website and pulling in data\n",
    "\n",
    "URL = 'https://www.amazon.in/OnePlus-Nord-Blue-128GB-Storage/dp/B097RD2JX8/ref=sr_1_2?crid=1OR2F8ATZBCKD&keywords=nord+2&qid=1646402885&s=electronics&sprefix=nord%2Celectronics%2C433&sr=1-2'\n",
    "\n",
    "# url to get my user agent - https://httpbin.org/get \n",
    "headers = {\"User-Agent\": \"Mozilla/5.0 (Windows NT 10.0; Win64; x64) AppleWebKit/537.36 \\\n",
    "           (KHTML, like Gecko) Chrome/105.0.0.0 Safari/537.36\", \"X-Amzn-Trace-Id\": \"Root=1-631eb784-2bc5c7815da69dad2823dbab\"}\n",
    "\n",
    "page = requests.get(URL, headers = headers)\n",
    "\n",
    "#pulling in all the html\n",
    "soup1 = BeautifulSoup(page.content, 'html.parser')\n",
    "\n",
    "soup2 = BeautifulSoup(soup1.prettify(), 'html.parser')\n",
    "\n",
    "#getting the title of the product from the page\n",
    "title = soup2.find(id = 'productTitle').get_text()\n",
    "\n",
    "#getting the price of the product from the page\n",
    "#https://stackoverflow.com/questions/34301815/understand-the-find-function-in-beautiful-soup\n",
    "price = soup2.find(\"span\", {\"class\": \"a-offscreen\"}).get_text()\n",
    "\n",
    "print(title)\n",
    "print(price)"
   ]
  },
  {
   "cell_type": "code",
   "execution_count": 3,
   "id": "c3d52165",
   "metadata": {},
   "outputs": [
    {
     "name": "stdout",
     "output_type": "stream",
     "text": [
      "OnePlus Nord 2 5G (Blue Haze, 8GB RAM, 128GB Storage)\n",
      "27899\n"
     ]
    }
   ],
   "source": [
    "#removing the unnecessary spaces\n",
    "title = title.strip()\n",
    "price = price.strip()\n",
    "\n",
    "#removing comma and rupees symbol from the price string\n",
    "price = price.replace(',', '')\n",
    "price = price.replace('₹' , '')\n",
    "\n",
    "#Converting the price string to int so that it can be compared later on\n",
    "price = int(float(price))\n",
    "\n",
    "print(title)\n",
    "print(price)"
   ]
  },
  {
   "cell_type": "code",
   "execution_count": 4,
   "id": "bae8f87f",
   "metadata": {},
   "outputs": [
    {
     "name": "stdout",
     "output_type": "stream",
     "text": [
      "2022-09-12\n"
     ]
    }
   ],
   "source": [
    "#get current date\n",
    "today = datetime.date.today()\n",
    "print(today)"
   ]
  },
  {
   "cell_type": "code",
   "execution_count": 6,
   "id": "1fa8ec34",
   "metadata": {},
   "outputs": [],
   "source": [
    "header = ['Title', 'Price', 'Date']\n",
    "data = [title, price, today]\n",
    "\n",
    "#creating the csv\n",
    "with open('Amazon_Web_Scraper_Dataset.csv', 'w', newline = '', encoding = 'UTF8') as f:\n",
    "    writer = csv.writer(f)\n",
    "    \n",
    "    #inserting header\n",
    "    writer.writerow(header)\n",
    "    \n",
    "    #inserting the data\n",
    "    writer.writerow(data)\n",
    "    "
   ]
  },
  {
   "cell_type": "code",
   "execution_count": 7,
   "id": "4b33beff",
   "metadata": {},
   "outputs": [
    {
     "data": {
      "text/html": [
       "<div>\n",
       "<style scoped>\n",
       "    .dataframe tbody tr th:only-of-type {\n",
       "        vertical-align: middle;\n",
       "    }\n",
       "\n",
       "    .dataframe tbody tr th {\n",
       "        vertical-align: top;\n",
       "    }\n",
       "\n",
       "    .dataframe thead th {\n",
       "        text-align: right;\n",
       "    }\n",
       "</style>\n",
       "<table border=\"1\" class=\"dataframe\">\n",
       "  <thead>\n",
       "    <tr style=\"text-align: right;\">\n",
       "      <th></th>\n",
       "      <th>Title</th>\n",
       "      <th>Price</th>\n",
       "      <th>Date</th>\n",
       "    </tr>\n",
       "  </thead>\n",
       "  <tbody>\n",
       "    <tr>\n",
       "      <th>0</th>\n",
       "      <td>OnePlus Nord 2 5G (Blue Haze, 8GB RAM, 128GB S...</td>\n",
       "      <td>27899</td>\n",
       "      <td>2022-09-12</td>\n",
       "    </tr>\n",
       "  </tbody>\n",
       "</table>\n",
       "</div>"
      ],
      "text/plain": [
       "                                               Title  Price        Date\n",
       "0  OnePlus Nord 2 5G (Blue Haze, 8GB RAM, 128GB S...  27899  2022-09-12"
      ]
     },
     "execution_count": 7,
     "metadata": {},
     "output_type": "execute_result"
    }
   ],
   "source": [
    "df=pd.read_csv(r'C:\\Users\\rr159\\Amazon_Web_Scraper_Dataset.csv')\n",
    "df"
   ]
  },
  {
   "cell_type": "code",
   "execution_count": 8,
   "id": "806c2896",
   "metadata": {},
   "outputs": [],
   "source": [
    "#appending the data \n",
    "\n",
    "with open('Amazon_Web_Scraper_Dataset.csv', 'a+', newline = '', encoding = 'UTF8') as f:\n",
    "    writer = csv.writer(f)\n",
    "    writer.writerow(data)\n",
    "    "
   ]
  },
  {
   "cell_type": "code",
   "execution_count": 9,
   "id": "fbcad44b",
   "metadata": {},
   "outputs": [
    {
     "data": {
      "text/html": [
       "<div>\n",
       "<style scoped>\n",
       "    .dataframe tbody tr th:only-of-type {\n",
       "        vertical-align: middle;\n",
       "    }\n",
       "\n",
       "    .dataframe tbody tr th {\n",
       "        vertical-align: top;\n",
       "    }\n",
       "\n",
       "    .dataframe thead th {\n",
       "        text-align: right;\n",
       "    }\n",
       "</style>\n",
       "<table border=\"1\" class=\"dataframe\">\n",
       "  <thead>\n",
       "    <tr style=\"text-align: right;\">\n",
       "      <th></th>\n",
       "      <th>Title</th>\n",
       "      <th>Price</th>\n",
       "      <th>Date</th>\n",
       "    </tr>\n",
       "  </thead>\n",
       "  <tbody>\n",
       "    <tr>\n",
       "      <th>0</th>\n",
       "      <td>OnePlus Nord 2 5G (Blue Haze, 8GB RAM, 128GB S...</td>\n",
       "      <td>27899</td>\n",
       "      <td>2022-09-12</td>\n",
       "    </tr>\n",
       "    <tr>\n",
       "      <th>1</th>\n",
       "      <td>OnePlus Nord 2 5G (Blue Haze, 8GB RAM, 128GB S...</td>\n",
       "      <td>27899</td>\n",
       "      <td>2022-09-12</td>\n",
       "    </tr>\n",
       "  </tbody>\n",
       "</table>\n",
       "</div>"
      ],
      "text/plain": [
       "                                               Title  Price        Date\n",
       "0  OnePlus Nord 2 5G (Blue Haze, 8GB RAM, 128GB S...  27899  2022-09-12\n",
       "1  OnePlus Nord 2 5G (Blue Haze, 8GB RAM, 128GB S...  27899  2022-09-12"
      ]
     },
     "execution_count": 9,
     "metadata": {},
     "output_type": "execute_result"
    }
   ],
   "source": [
    "df=pd.read_csv(r'C:\\Users\\rr159\\Amazon_Web_Scraper_Dataset.csv')\n",
    "df"
   ]
  },
  {
   "cell_type": "code",
   "execution_count": 10,
   "id": "137f40ae",
   "metadata": {},
   "outputs": [],
   "source": [
    "#defining a function to check price, append the data in csv and if price of the smartphone below Rs.26000 send an email\n",
    "\n",
    "def check_price():\n",
    "    URL = 'https://www.amazon.in/OnePlus-Nord-Blue-128GB-Storage/dp/B097RD2JX8/ref=sr_1_2?crid=1OR2F8ATZBCKD&keywords=nord+2&qid=1646402885&s=electronics&sprefix=nord%2Celectronics%2C433&sr=1-2'\n",
    "\n",
    "    # url to get my user agent - https://httpbin.org/get \n",
    "    headers = {\"User-Agent\": \"Mozilla/5.0 (Windows NT 10.0; Win64; x64) AppleWebKit/537.36 \\\n",
    "           (KHTML, like Gecko) Chrome/99.0.4844.51 Safari/537.36\", \"X-Amzn-Trace-Id\": \"Root=1-62221d56-546b2fdf5ba0259122dab2aa\"}\n",
    "\n",
    "    page = requests.get(URL, headers = headers)\n",
    "\n",
    "    #pulling in all the html\n",
    "    soup1 = BeautifulSoup(page.content, 'html.parser')\n",
    "\n",
    "    soup2 = BeautifulSoup(soup1.prettify(), 'html.parser')\n",
    "\n",
    "    #getting the title of the product from the page\n",
    "    title = soup2.find(id = 'productTitle').get_text()\n",
    "\n",
    "    #getting the price of the product from the page\n",
    "    #https://stackoverflow.com/questions/34301815/understand-the-find-function-in-beautiful-soup\n",
    "    price = soup2.find(\"span\", {\"class\": \"a-offscreen\"}).get_text()\n",
    "       \n",
    "    #removing the unnecessary spaces\n",
    "    title = title.strip()\n",
    "    price = price.strip()\n",
    "\n",
    "    #removing comma and rupees symbol from the price string\n",
    "    price = price.replace(',', '')\n",
    "    price = price.replace('₹' , '')\n",
    "\n",
    "    #Converting the price string to int so that it can be compared later on\n",
    "    price = int(float(price))\n",
    "\n",
    "    #get current date\n",
    "    today = datetime.date.today()\n",
    "    \n",
    "    #defining the header and data for the csv file\n",
    "    header = ['Title', 'Price', 'Date']\n",
    "    data = [title, price, today]\n",
    "    \n",
    "    #appending the data in the csv file\n",
    "    with open('Amazon_Web_Scraper_Dataset.csv', 'a+', newline = '', encoding = 'UTF8') as f:\n",
    "        writer = csv.writer(f)\n",
    "        writer.writerow(data)\n",
    "        \n",
    "    #To send the email alert when price of the phone is below Rs.26000    \n",
    "    if(price < 26000):\n",
    "        send_email()"
   ]
  },
  {
   "cell_type": "code",
   "execution_count": null,
   "id": "691379d6",
   "metadata": {},
   "outputs": [],
   "source": [
    "#automated it to get the price of the product and append the data every 24 hours in csv file , \n",
    "#and if price less than Rs.26000 send an email\n",
    "\n",
    "while(True):\n",
    "    check_price()\n",
    "    time.sleep(86400) #1 day = 86400 seconds"
   ]
  },
  {
   "cell_type": "code",
   "execution_count": null,
   "id": "6572ab83",
   "metadata": {},
   "outputs": [],
   "source": [
    "#To send the email alert\n",
    "\n",
    "#https://realpython.com/python-send-email/\n",
    "def send_email():\n",
    "    server = smtplib.SMTP_SSL('smtp.gmail.com',465)\n",
    "    server.ehlo()  #Identify yourself to an ESMTP server using ehlo()\n",
    "    #server.starttls()\n",
    "    server.ehlo()\n",
    "    server.login('xxxxxxxx','xxxxxx') #need to give mail id and password\n",
    "    \n",
    "    subject = \"OnePlus Nord 2 is below Rs.26000! Time to buy!\"\n",
    "    body = \"Adhip, Check the Sale. \\\n",
    "    Now is the time to buy the mobile phone at discounted price. \\\n",
    "    Link here: https://www.amazon.in/OnePlus-Nord-Blue-128GB-Storage/dp/B097RD2JX8/ref=sr_1_2?crid=1OR2F8ATZBCKD&keywords=nord+2&qid=1646402885&s=electronics&sprefix=nord%2Celectronics%2C433&sr=1-2\"\n",
    "   \n",
    "    message = f\"Subject: {subject}\\n\\n{body}\"  \n",
    "    \n",
    "    server.sendmail('xxxxxxxx','xxxxxxxx', message ) #need to give from(Sender) and to(Receiver) email address\n",
    "    "
   ]
  },
  {
   "cell_type": "code",
   "execution_count": null,
   "id": "7f3760f5",
   "metadata": {},
   "outputs": [],
   "source": []
  }
 ],
 "metadata": {
  "kernelspec": {
   "display_name": "Python 3 (ipykernel)",
   "language": "python",
   "name": "python3"
  },
  "language_info": {
   "codemirror_mode": {
    "name": "ipython",
    "version": 3
   },
   "file_extension": ".py",
   "mimetype": "text/x-python",
   "name": "python",
   "nbconvert_exporter": "python",
   "pygments_lexer": "ipython3",
   "version": "3.8.8"
  }
 },
 "nbformat": 4,
 "nbformat_minor": 5
}
